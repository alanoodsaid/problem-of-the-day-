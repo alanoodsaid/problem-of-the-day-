{
 "cells": [
  {
   "cell_type": "code",
   "execution_count": 1,
   "id": "8f0ea5dc",
   "metadata": {},
   "outputs": [
    {
     "name": "stdout",
     "output_type": "stream",
     "text": [
      "Maximum number of meetings: 4\n",
      "Selected meeting indices: [0, 1, 3, 4]\n"
     ]
    }
   ],
   "source": [
    "#problem of the day 19\n",
    "'''\n",
    "there one meeting room in a firm. there are n meetings in the form of \n",
    "(start [i] , end [i]) where start[i] is start time of meeting i and\n",
    "end[i] is finish time of meeting i. what is the maximum number of meeting\n",
    "that can be accommodated in the meeting room when only one meeting can be\n",
    "held in the meeting room at a parrticular time? Note: start time of one chosen\n",
    "meeting can't be equal to the end time of the other chosen meeting .\n",
    "input : n=6                 \n",
    "start[]={1,3,0,5,8,5},,end[]={2,4,6,7,9,9}\n",
    "'''\n",
    "\n",
    "def max_meetings(start, end):\n",
    "    # Combine the start and end times into a list of tuples with indices\n",
    "    meetings = [(start[i], end[i], i) for i in range(len(start))]\n",
    "    \n",
    "    # Sort the meetings based on their ending times\n",
    "    meetings.sort(key=lambda x: x[1])\n",
    "    \n",
    "    # Initialize variables\n",
    "    max_meetings_count = 0\n",
    "    current_end_time = -1\n",
    "    selected_meetings = []\n",
    "\n",
    "    # Iterate through sorted meetings\n",
    "    for meeting in meetings:\n",
    "        if meeting[0] > current_end_time:\n",
    "            max_meetings_count += 1\n",
    "            current_end_time = meeting[1]\n",
    "            selected_meetings.append(meeting[2])\n",
    "\n",
    "    return max_meetings_count, selected_meetings\n",
    "\n",
    "# Input data\n",
    "n = 6\n",
    "start = [1, 3, 0, 5, 8, 5]\n",
    "end = [2, 4, 6, 7, 9, 9]\n",
    "\n",
    "# Find the maximum number of meetings \n",
    "max_count, selected_indices = max_meetings(start, end)\n",
    "\n",
    "print(\"Maximum number of meetings:\", max_count)\n",
    "print(\"Selected meeting indices:\", selected_indices)\n"
   ]
  },
  {
   "cell_type": "code",
   "execution_count": null,
   "id": "8218b332",
   "metadata": {},
   "outputs": [],
   "source": []
  }
 ],
 "metadata": {
  "kernelspec": {
   "display_name": "Python 3 (ipykernel)",
   "language": "python",
   "name": "python3"
  },
  "language_info": {
   "codemirror_mode": {
    "name": "ipython",
    "version": 3
   },
   "file_extension": ".py",
   "mimetype": "text/x-python",
   "name": "python",
   "nbconvert_exporter": "python",
   "pygments_lexer": "ipython3",
   "version": "3.9.13"
  }
 },
 "nbformat": 4,
 "nbformat_minor": 5
}
