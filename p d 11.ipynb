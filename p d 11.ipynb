{
 "cells": [
  {
   "cell_type": "code",
   "execution_count": null,
   "id": "31f37ff5",
   "metadata": {},
   "outputs": [],
   "source": [
    "# problem of the day 11\n",
    "\n",
    "\"\"\"\n",
    "given a string S. find the longest palindromic substring in S.\n",
    "S[i..j] where 0<=i <=j len (S) .\n",
    "palindrome string A string that reads the same backword.\n",
    "More formally , S is palindrome if reverse(s)=s .\n",
    "in case of conflid return the substring which occurs first(with the leust starting index).\n",
    "\"\"\"\n",
    "\n",
    "def longest_palindromic_substring(s):\n",
    "    n = len(s)\n",
    "    longest_start = 0\n",
    "    max_length = 1\n",
    "\n",
    "    # Create a table to store palindromic substring information\n",
    "    dp = [[False] * n for _ in range(n)]\n",
    "\n",
    "    # All substrings of length 1 are palindromic\n",
    "    for i in range(n):\n",
    "        dp[i][i] = True\n",
    "\n",
    "    # Check for substrings of length 2\n",
    "    for i in range(n - 1):\n",
    "        if s[i] == s[i + 1]:\n",
    "            dp[i][i + 1] = True\n",
    "            longest_start = i\n",
    "            max_length = 2\n",
    "\n",
    "    # Check for substrings of length greater than 2\n",
    "    for length in range(3, n + 1):\n",
    "        for i in range(n - length + 1):\n",
    "            j = i + length - 1\n",
    "            if dp[i + 1][j - 1] and s[i] == s[j]:\n",
    "                dp[i][j] = True\n",
    "                if length > max_length:\n",
    "                    longest_start = i\n",
    "                    max_length = length\n",
    "\n",
    "    return s[longest_start:longest_start + max_length]\n",
    "\n",
    "# Example input\n",
    "S = \"aaabbaa\"\n",
    "result = longest_palindromic_substring(S)\n",
    "print(\"Longest palindromic substring:\", result)\n"
   ]
  }
 ],
 "metadata": {
  "kernelspec": {
   "display_name": "Python 3 (ipykernel)",
   "language": "python",
   "name": "python3"
  },
  "language_info": {
   "codemirror_mode": {
    "name": "ipython",
    "version": 3
   },
   "file_extension": ".py",
   "mimetype": "text/x-python",
   "name": "python",
   "nbconvert_exporter": "python",
   "pygments_lexer": "ipython3",
   "version": "3.9.13"
  }
 },
 "nbformat": 4,
 "nbformat_minor": 5
}
