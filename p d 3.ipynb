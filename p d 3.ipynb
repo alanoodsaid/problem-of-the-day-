{
 "cells": [
  {
   "cell_type": "code",
   "execution_count": null,
   "id": "c14f0a0d",
   "metadata": {},
   "outputs": [],
   "source": [
    "#problem of the day 3 \n",
    "#finding the volume of a cone \n",
    "import math \n",
    "def cone(radius, height):\n",
    "    return (1/3)* math.pi*(radius ** 2) * height \n",
    "\n",
    "radius = float(input(\"enter the radius of the cone: \"))\n",
    "height = float(input(\"enter the height of the cone: \"))\n",
    "\n",
    "volume = cone(radius, height)\n",
    "print(f\"The volume of the cone is: {volume:.2f} cubic units\")"
   ]
  }
 ],
 "metadata": {
  "kernelspec": {
   "display_name": "Python 3 (ipykernel)",
   "language": "python",
   "name": "python3"
  },
  "language_info": {
   "codemirror_mode": {
    "name": "ipython",
    "version": 3
   },
   "file_extension": ".py",
   "mimetype": "text/x-python",
   "name": "python",
   "nbconvert_exporter": "python",
   "pygments_lexer": "ipython3",
   "version": "3.9.13"
  }
 },
 "nbformat": 4,
 "nbformat_minor": 5
}
