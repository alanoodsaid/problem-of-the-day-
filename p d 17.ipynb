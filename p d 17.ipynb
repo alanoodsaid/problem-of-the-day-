{
 "cells": [
  {
   "cell_type": "code",
   "execution_count": 1,
   "id": "893505bf",
   "metadata": {},
   "outputs": [
    {
     "name": "stdout",
     "output_type": "stream",
     "text": [
      "8 is a power of 2\n"
     ]
    }
   ],
   "source": [
    "#problem of the day 17\n",
    "'''\n",
    "given a non-negative integer n. the task is to check if n is power of 2.\n",
    "more formally, check if n can be\n",
    "expressed as 2 power x for some integer x ? \n",
    "'''\n",
    "\n",
    "def is_power_of_2(n):\n",
    "    # Check if n is greater than 0 and has only one set bit\n",
    "    return n > 0 and (n & (n - 1)) == 0\n",
    "\n",
    "# Test cases\n",
    "n = 8\n",
    "if is_power_of_2(n):\n",
    "    print(f\"{n} is a power of 2\")\n",
    "else:\n",
    "    print(f\"{n} is not a power of 2\")\n"
   ]
  },
  {
   "cell_type": "code",
   "execution_count": null,
   "id": "6a499fe0",
   "metadata": {},
   "outputs": [],
   "source": []
  }
 ],
 "metadata": {
  "kernelspec": {
   "display_name": "Python 3 (ipykernel)",
   "language": "python",
   "name": "python3"
  },
  "language_info": {
   "codemirror_mode": {
    "name": "ipython",
    "version": 3
   },
   "file_extension": ".py",
   "mimetype": "text/x-python",
   "name": "python",
   "nbconvert_exporter": "python",
   "pygments_lexer": "ipython3",
   "version": "3.9.13"
  }
 },
 "nbformat": 4,
 "nbformat_minor": 5
}
