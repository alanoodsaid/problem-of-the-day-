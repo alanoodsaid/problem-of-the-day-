{
 "cells": [
  {
   "cell_type": "code",
   "execution_count": null,
   "id": "716db6eb",
   "metadata": {},
   "outputs": [],
   "source": [
    "#problem of the day 10\n",
    "\"\"\"\n",
    "given a string S. the task is to count the number\n",
    "of substrings which contains equal number of lowercase\n",
    "and appercase letter.\n",
    "input : S=\"WomensDAY\"\n",
    "\"\"\"\n",
    "def count_equal_case_substrings(s):\n",
    "    diff_count = 0  # Initialize the difference count\n",
    "    diff_dict = {0: 1}  # Initialize the dictionary with a difference count of 0\n",
    "\n",
    "    count = 0\n",
    "\n",
    "    for char in s:\n",
    "        if char.islower():\n",
    "            diff_count -= 1\n",
    "        else:\n",
    "            diff_count += 1\n",
    "\n",
    "        # Check if the negative counterpart exists in the dictionary\n",
    "        if diff_count in diff_dict:\n",
    "            count += diff_dict[diff_count]\n",
    "\n",
    "        # Update the dictionary with the current difference count\n",
    "        if diff_count in diff_dict:\n",
    "            diff_dict[diff_count] += 1\n",
    "        else:\n",
    "            diff_dict[diff_count] = 1\n",
    "\n",
    "    return count\n",
    "\n",
    "# Example input\n",
    "S = \"WomensDAY\"\n",
    "result = count_equal_case_substrings(S)\n",
    "print(\"Number of substrings with equal case letters:\", result)\n"
   ]
  }
 ],
 "metadata": {
  "kernelspec": {
   "display_name": "Python 3 (ipykernel)",
   "language": "python",
   "name": "python3"
  },
  "language_info": {
   "codemirror_mode": {
    "name": "ipython",
    "version": 3
   },
   "file_extension": ".py",
   "mimetype": "text/x-python",
   "name": "python",
   "nbconvert_exporter": "python",
   "pygments_lexer": "ipython3",
   "version": "3.9.13"
  }
 },
 "nbformat": 4,
 "nbformat_minor": 5
}
