{
 "cells": [
  {
   "cell_type": "code",
   "execution_count": 1,
   "id": "46b25dac",
   "metadata": {},
   "outputs": [
    {
     "name": "stdout",
     "output_type": "stream",
     "text": [
      "Amount of trapped water: 10\n"
     ]
    }
   ],
   "source": [
    "#problem of the day 20\n",
    "'''\n",
    "Given an array arr[] of N non-negative integers representing the height of blocks.\n",
    "If width of each block is 1, compute how much water can be trapped between the blocks during the rainy \n",
    "season\n",
    "\n",
    "Input:\n",
    "N = 6\n",
    "arr[] = {3,0,0,2,0,4}\n",
    "Output:\n",
    "10\n",
    "'''\n",
    "\n",
    "def trap(height):\n",
    "    n = len(height)\n",
    "    left_max = [0] * n\n",
    "    right_max = [0] * n\n",
    "\n",
    "    left_max[0] = height[0]\n",
    "    for i in range(1, n):\n",
    "        left_max[i] = max(left_max[i - 1], height[i])\n",
    "\n",
    "    right_max[n - 1] = height[n - 1]\n",
    "    for i in range(n - 2, -1, -1):\n",
    "        right_max[i] = max(right_max[i + 1], height[i])\n",
    "\n",
    "    trapped_water = 0\n",
    "    for i in range(n):\n",
    "        trapped_water += min(left_max[i], right_max[i]) - height[i]\n",
    "\n",
    "    return trapped_water\n",
    "\n",
    "# Exampl\n",
    "N = 6\n",
    "arr = [3, 0, 0, 2, 0, 4]\n",
    "result = trap(arr)\n",
    "print(\"Amount of trapped water:\", result)\n"
   ]
  },
  {
   "cell_type": "code",
   "execution_count": null,
   "id": "90aeca01",
   "metadata": {},
   "outputs": [],
   "source": []
  }
 ],
 "metadata": {
  "kernelspec": {
   "display_name": "Python 3 (ipykernel)",
   "language": "python",
   "name": "python3"
  },
  "language_info": {
   "codemirror_mode": {
    "name": "ipython",
    "version": 3
   },
   "file_extension": ".py",
   "mimetype": "text/x-python",
   "name": "python",
   "nbconvert_exporter": "python",
   "pygments_lexer": "ipython3",
   "version": "3.9.13"
  }
 },
 "nbformat": 4,
 "nbformat_minor": 5
}
