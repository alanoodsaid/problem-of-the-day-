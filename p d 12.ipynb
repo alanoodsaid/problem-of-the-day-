{
 "cells": [
  {
   "cell_type": "code",
   "execution_count": null,
   "id": "7a6d5a95",
   "metadata": {},
   "outputs": [],
   "source": [
    "#problem of the day 12\n",
    "\"\"\"\n",
    "given an unsorted array Arr of n positive and negative numbers\n",
    "your task is to create an array of alternate positive & negative\n",
    "numbers without changing the relative order of positive and negaative\n",
    "number.\n",
    "\n",
    "\"\"\"\n",
    "\n",
    "def pn(arr):\n",
    "    positive_nums = []\n",
    "    negative_nums = []\n",
    "\n",
    "    for num in arr:\n",
    "        if num > 0:\n",
    "            positive_nums.append(num)\n",
    "        else:\n",
    "            negative_nums.append(num)\n",
    "\n",
    "    result = []\n",
    "    p_index, n_index = 0, 0\n",
    "    p_len, n_len = len(positive_nums), len(negative_nums)\n",
    "\n",
    "    while p_index < p_len and n_index < n_len:\n",
    "        result.append(positive_nums[p_index])\n",
    "        result.append(negative_nums[n_index])\n",
    "        p_index += 1\n",
    "        n_index += 1\n",
    "\n",
    "   \n",
    "    while p_index < p_len:\n",
    "        result.append(positive_nums[p_index])\n",
    "        p_index += 1\n",
    "\n",
    "    while n_index < n_len:\n",
    "        result.append(negative_nums[n_index])\n",
    "        n_index += 1\n",
    "\n",
    "    return result\n",
    "\n",
    "# Example input array\n",
    "arr = [1, -2, 3, -4, 5, -6]\n",
    "result = alternate_positive_negative(arr)\n",
    "print(\"Alternate positive & negative array:\", result)\n"
   ]
  }
 ],
 "metadata": {
  "kernelspec": {
   "display_name": "Python 3 (ipykernel)",
   "language": "python",
   "name": "python3"
  },
  "language_info": {
   "codemirror_mode": {
    "name": "ipython",
    "version": 3
   },
   "file_extension": ".py",
   "mimetype": "text/x-python",
   "name": "python",
   "nbconvert_exporter": "python",
   "pygments_lexer": "ipython3",
   "version": "3.9.13"
  }
 },
 "nbformat": 4,
 "nbformat_minor": 5
}
