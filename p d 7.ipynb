{
 "cells": [
  {
   "cell_type": "code",
   "execution_count": 1,
   "id": "a4473fcb",
   "metadata": {},
   "outputs": [
    {
     "name": "stdout",
     "output_type": "stream",
     "text": [
      "Enter the array of positive integers (space-separated): 1 3 76 23 9 12 \n",
      "Leader elements in the array are: [76, 23, 12]\n"
     ]
    }
   ],
   "source": [
    "def find_leaders(arr):\n",
    "    n = len(arr)\n",
    "    leaders = []\n",
    "\n",
    "    max_right = arr[n - 1]\n",
    "    leaders.append(max_right)\n",
    "\n",
    "    for i in range(n - 2, -1, -1):\n",
    "        if arr[i] >= max_right:\n",
    "            max_right = arr[i]\n",
    "            leaders.append(max_right)\n",
    "\n",
    "    return leaders[::-1]\n",
    "\n",
    "# Taking input for the array of positive integers\n",
    "num_array = list(map(int, input(\"Enter the array of positive integers (space-separated): \").split()))\n",
    "\n",
    "leader_elements = find_leaders(num_array)\n",
    "\n",
    "print(\"Leader elements in the array are:\", leader_elements)\n"
   ]
  },
  {
   "cell_type": "code",
   "execution_count": null,
   "id": "b15ef3f7",
   "metadata": {},
   "outputs": [],
   "source": []
  }
 ],
 "metadata": {
  "kernelspec": {
   "display_name": "Python 3 (ipykernel)",
   "language": "python",
   "name": "python3"
  },
  "language_info": {
   "codemirror_mode": {
    "name": "ipython",
    "version": 3
   },
   "file_extension": ".py",
   "mimetype": "text/x-python",
   "name": "python",
   "nbconvert_exporter": "python",
   "pygments_lexer": "ipython3",
   "version": "3.9.13"
  }
 },
 "nbformat": 4,
 "nbformat_minor": 5
}
