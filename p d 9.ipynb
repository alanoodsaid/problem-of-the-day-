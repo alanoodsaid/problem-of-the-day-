{
 "cells": [
  {
   "cell_type": "code",
   "execution_count": 3,
   "id": "dfda8f67",
   "metadata": {},
   "outputs": [
    {
     "name": "stdout",
     "output_type": "stream",
     "text": [
      "1 1 5 4 3 2 "
     ]
    }
   ],
   "source": [
    "#problem of the day 9\n",
    "\"\"\"\n",
    "given a linked list and a number k .\n",
    "you have to reverse first part of linked  with k nodes\n",
    "and the second part with n - k nodes.\n",
    "\"\"\"\n",
    "class ListNode:\n",
    "    def __init__(self, value):\n",
    "        self.value = value\n",
    "        self.next = None\n",
    "\n",
    "def reverse_ll(head, k):\n",
    "    prev = None\n",
    "    current = head\n",
    "    count = 0\n",
    "\n",
    "    while current and count < k:\n",
    "        next_node = current.next\n",
    "        current.next = prev\n",
    "        prev = current\n",
    "        current = next_node\n",
    "        count += 1\n",
    "\n",
    "    return prev, current\n",
    "\n",
    "def reverse_k_and_n_minus_k(head, k):\n",
    "    n = 0\n",
    "    temp = head\n",
    "    while temp:\n",
    "        n += 1\n",
    "        temp = temp.next\n",
    "    \n",
    "    if n < k:\n",
    "        return head\n",
    "    \n",
    "    first_part_head, second_part_head = reverse_ll(head, k)\n",
    "    second_part_head, _ = reverse_ll(second_part_head, n - k)\n",
    "    first_part_end = first_part_head\n",
    "\n",
    "    while first_part_end.next:\n",
    "        first_part_end = first_part_end.next\n",
    "\n",
    "    first_part_end.next = second_part_head\n",
    "\n",
    "    return first_part_head\n",
    "\n",
    "# Create the linked list\n",
    "head = ListNode(1)\n",
    "current = head\n",
    "for val in [2, 3, 4, 5]:\n",
    "    current.next = ListNode(val)\n",
    "    current = current.next\n",
    "\n",
    "# Reverse the parts with k=2\n",
    "k = 2\n",
    "new_head = reverse_k_and_n_minus_k(head, k)\n",
    "\n",
    "# Print the reversed linked list\n",
    "while new_head:\n",
    "    print(new_head.value, end=\" \")\n",
    "    new_head = new_head.next\n"
   ]
  },
  {
   "cell_type": "code",
   "execution_count": null,
   "id": "5f48f11a",
   "metadata": {},
   "outputs": [],
   "source": []
  }
 ],
 "metadata": {
  "kernelspec": {
   "display_name": "Python 3 (ipykernel)",
   "language": "python",
   "name": "python3"
  },
  "language_info": {
   "codemirror_mode": {
    "name": "ipython",
    "version": 3
   },
   "file_extension": ".py",
   "mimetype": "text/x-python",
   "name": "python",
   "nbconvert_exporter": "python",
   "pygments_lexer": "ipython3",
   "version": "3.9.13"
  }
 },
 "nbformat": 4,
 "nbformat_minor": 5
}
