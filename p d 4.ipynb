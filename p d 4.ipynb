{
 "cells": [
  {
   "cell_type": "code",
   "execution_count": null,
   "id": "94b51074",
   "metadata": {},
   "outputs": [],
   "source": [
    "#problem of the day 4\n",
    "#find out if the user is a girl or boy from their username\n",
    "username = str(input(\"enter the username: \"))\n",
    "count = username.count(username)\n",
    "if count // 2 == 0:\n",
    "    print(\"this user is a girl\")\n",
    "else:\n",
    "    print(\"this user is a boy\")"
   ]
  }
 ],
 "metadata": {
  "kernelspec": {
   "display_name": "Python 3 (ipykernel)",
   "language": "python",
   "name": "python3"
  },
  "language_info": {
   "codemirror_mode": {
    "name": "ipython",
    "version": 3
   },
   "file_extension": ".py",
   "mimetype": "text/x-python",
   "name": "python",
   "nbconvert_exporter": "python",
   "pygments_lexer": "ipython3",
   "version": "3.9.13"
  }
 },
 "nbformat": 4,
 "nbformat_minor": 5
}
