{
 "cells": [
  {
   "cell_type": "code",
   "execution_count": 1,
   "id": "8ed1b40b",
   "metadata": {},
   "outputs": [
    {
     "name": "stdout",
     "output_type": "stream",
     "text": [
      "Index of the extra element: 4\n"
     ]
    }
   ],
   "source": [
    "#problem of the day 23\n",
    "'''\n",
    "given two sorted arrays of distinct elements.\n",
    "there is only 1 difference between the arrays\n",
    "first array has one element extra added in between.\n",
    "find the index of the extra element.\n",
    "input = 7     \n",
    "a[]={2,4,6,8,9,10,12}  \n",
    "b[]={2,4,6,8,10,12}\n",
    "\n",
    "\n",
    "'''\n",
    "\n",
    "def find_extra_element_index(a, b):\n",
    "    n = len(a)\n",
    "    left, right = 0, n - 1\n",
    "\n",
    "    while left <= right:\n",
    "        mid = left + (right - left) // 2\n",
    "\n",
    "        if mid >= n or a[mid] != b[mid]:\n",
    "            right = mid - 1\n",
    "        else:\n",
    "            left = mid + 1\n",
    "\n",
    "    return left\n",
    "\n",
    "# Example\n",
    "a = [2, 4, 6, 8, 9, 10, 12]\n",
    "b = [2, 4, 6, 8, 10, 12]\n",
    "extra_element_index = find_extra_element_index(a, b)\n",
    "print(\"Index of the extra element:\", extra_element_index)\n"
   ]
  },
  {
   "cell_type": "code",
   "execution_count": null,
   "id": "c8f793b4",
   "metadata": {},
   "outputs": [],
   "source": []
  }
 ],
 "metadata": {
  "kernelspec": {
   "display_name": "Python 3 (ipykernel)",
   "language": "python",
   "name": "python3"
  },
  "language_info": {
   "codemirror_mode": {
    "name": "ipython",
    "version": 3
   },
   "file_extension": ".py",
   "mimetype": "text/x-python",
   "name": "python",
   "nbconvert_exporter": "python",
   "pygments_lexer": "ipython3",
   "version": "3.9.13"
  }
 },
 "nbformat": 4,
 "nbformat_minor": 5
}
