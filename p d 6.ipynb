{
 "cells": [
  {
   "cell_type": "code",
   "execution_count": 3,
   "id": "e3b594a9",
   "metadata": {},
   "outputs": [
    {
     "name": "stdout",
     "output_type": "stream",
     "text": [
      "Enter the time: 20\n",
      "Chef will reach 10 minutes late.\n"
     ]
    }
   ],
   "source": [
    "#problem of the day 6\n",
    "'''\n",
    "Chef has recently moved into an apartment. It takes 30\n",
    "30 minutes for Chef to reach office from the apartment.\n",
    "Chef left for the office \n",
    "X minutes before Chef was supposed to reach. Determine whether or not Chef will be able to reach on time.\n",
    "'''\n",
    "\n",
    "ttime = 30 \n",
    "\n",
    "\n",
    "time2 = int(input(\"Enter the time: \"))\n",
    "\n",
    "if time2 == ttime:\n",
    "    print(\"Chef will reach on time.\")\n",
    "elif time2 > ttime:\n",
    "    print(\"Chef will reach early.\")\n",
    "else:\n",
    "    late_minutes = ttime - time2\n",
    "    print(\"Chef will reach\", late_minutes, \"minutes late.\")\n",
    "\n"
   ]
  },
  {
   "cell_type": "code",
   "execution_count": null,
   "id": "cba01c66",
   "metadata": {},
   "outputs": [],
   "source": []
  }
 ],
 "metadata": {
  "kernelspec": {
   "display_name": "Python 3 (ipykernel)",
   "language": "python",
   "name": "python3"
  },
  "language_info": {
   "codemirror_mode": {
    "name": "ipython",
    "version": 3
   },
   "file_extension": ".py",
   "mimetype": "text/x-python",
   "name": "python",
   "nbconvert_exporter": "python",
   "pygments_lexer": "ipython3",
   "version": "3.9.13"
  }
 },
 "nbformat": 4,
 "nbformat_minor": 5
}
