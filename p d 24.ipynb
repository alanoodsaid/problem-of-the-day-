{
 "cells": [
  {
   "cell_type": "code",
   "execution_count": null,
   "id": "2e16e797",
   "metadata": {},
   "outputs": [],
   "source": [
    "#problem of the day 24\n",
    "'''\n",
    "given an array of n integers arr[] where each element \n",
    "represent the maximum length of jump that can be made forward from that element .\n",
    "this means if arr[i]=x, then we can jump any distance y such that y<=x. \n",
    "find the minimum number of jumps to reach the end of the array(starting from the first element).\n",
    "if an element is 0, then you can not move through that element.\n",
    "input : n= 11    arr[]= {1,3,5,8,9,2,6,7,6,8,9}\n",
    "'''\n",
    "def min_jumps_to_end(arr):\n",
    "    n = len(arr)\n",
    "\n",
    "    if n <= 1:\n",
    "        return 0\n",
    "\n",
    "    jumps = 1  \n",
    "    max_reach = arr[0]  \n",
    "    steps_left = arr[0]  \n",
    "\n",
    "    for i in range(1, n):\n",
    "        if i == n - 1:\n",
    "            return jumps  # Reached the end\n",
    "\n",
    "        max_reach = max(max_reach, i + arr[i])\n",
    "        steps_left -= 1\n",
    "\n",
    "        if steps_left == 0:\n",
    "            jumps += 1\n",
    "\n",
    "            if i >= max_reach:\n",
    "                return -1  # Cannot reach the end\n",
    "\n",
    "            steps_left = max_reach - i\n",
    "\n",
    "    return -1 \n",
    "\n",
    "# Example \n",
    "arr = [1, 3, 5, 8, 9, 2, 6, 7, 6, 8, 9]\n",
    "result = min_jumps_to_end(arr)\n",
    "if result != -1:\n",
    "    print(\"Minimum number of jumps:\", result)\n",
    "else:\n",
    "    print(\"Cannot reach the end of the array.\")\n"
   ]
  }
 ],
 "metadata": {
  "kernelspec": {
   "display_name": "Python 3 (ipykernel)",
   "language": "python",
   "name": "python3"
  },
  "language_info": {
   "codemirror_mode": {
    "name": "ipython",
    "version": 3
   },
   "file_extension": ".py",
   "mimetype": "text/x-python",
   "name": "python",
   "nbconvert_exporter": "python",
   "pygments_lexer": "ipython3",
   "version": "3.9.13"
  }
 },
 "nbformat": 4,
 "nbformat_minor": 5
}
