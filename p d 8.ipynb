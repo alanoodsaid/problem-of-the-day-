{
 "cells": [
  {
   "cell_type": "code",
   "execution_count": null,
   "id": "fecb016a",
   "metadata": {},
   "outputs": [],
   "source": [
    "# problem of the day 8\n",
    "\"\"\" \n",
    "given an array A of a positive  integers your task is to find\n",
    "the leader in the array . An element of array is leader if it\n",
    "is greater than or equal to all the elements to its right side .\n",
    "the right most element is always a leader.\n",
    "\"\"\" \n",
    "\n",
    "def find_leaders(arr):\n",
    "    n = len(arr)\n",
    "    max_right = arr[n - 1]  \n",
    "    leaders = [max_right]\n",
    "\n",
    "    for i in range(n - 2, -1, -1):\n",
    "        if arr[i] >= max_right:\n",
    "            max_right = arr[i]\n",
    "            leaders.append(max_right)\n",
    "\n",
    "    leaders.reverse()  # Since we built the list in reverse order, we reverse it to get the correct order\n",
    "\n",
    "    return leaders\n",
    "\n",
    "# Example array\n",
    "A = [16, 17, 4, 3, 5, 2]\n",
    "leaders = find_leaders(A)\n",
    "print(\"Leaders:\", leaders)\n"
   ]
  }
 ],
 "metadata": {
  "kernelspec": {
   "display_name": "Python 3 (ipykernel)",
   "language": "python",
   "name": "python3"
  },
  "language_info": {
   "codemirror_mode": {
    "name": "ipython",
    "version": 3
   },
   "file_extension": ".py",
   "mimetype": "text/x-python",
   "name": "python",
   "nbconvert_exporter": "python",
   "pygments_lexer": "ipython3",
   "version": "3.9.13"
  }
 },
 "nbformat": 4,
 "nbformat_minor": 5
}
